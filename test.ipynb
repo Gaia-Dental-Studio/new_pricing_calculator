{
 "cells": [
  {
   "cell_type": "code",
   "execution_count": 1,
   "metadata": {},
   "outputs": [],
   "source": [
    "import numpy as np\n",
    "import pandas as pd\n"
   ]
  },
  {
   "cell_type": "code",
   "execution_count": 5,
   "metadata": {},
   "outputs": [
    {
     "name": "stdout",
     "output_type": "stream",
     "text": [
      "<class 'pandas.core.frame.DataFrame'>\n",
      "RangeIndex: 36 entries, 0 to 35\n",
      "Data columns (total 4 columns):\n",
      " #   Column            Non-Null Count  Dtype \n",
      "---  ------            --------------  ----- \n",
      " 0   Product Name      36 non-null     object\n",
      " 1   Type              33 non-null     object\n",
      " 2   Price             36 non-null     int64 \n",
      " 3   Warranty (years)  36 non-null     int64 \n",
      "dtypes: int64(2), object(2)\n",
      "memory usage: 1.2+ KB\n"
     ]
    }
   ],
   "source": [
    "ori = pd.read_excel(\"Input Streamlit v2.xlsx\")\n",
    "ori.info()"
   ]
  },
  {
   "cell_type": "code",
   "execution_count": 6,
   "metadata": {},
   "outputs": [
    {
     "name": "stdout",
     "output_type": "stream",
     "text": [
      "<class 'pandas.core.frame.DataFrame'>\n",
      "RangeIndex: 36 entries, 0 to 35\n",
      "Data columns (total 4 columns):\n",
      " #   Column            Non-Null Count  Dtype  \n",
      "---  ------            --------------  -----  \n",
      " 0   Product Name      36 non-null     object \n",
      " 1   Type              33 non-null     object \n",
      " 2   Price             36 non-null     float64\n",
      " 3   Warranty (years)  36 non-null     int64  \n",
      "dtypes: float64(1), int64(1), object(2)\n",
      "memory usage: 1.2+ KB\n"
     ]
    }
   ],
   "source": [
    "new = pd.read_excel(\"Input Streamlit v3.xlsx\")\n",
    "new.info()"
   ]
  },
  {
   "cell_type": "code",
   "execution_count": 7,
   "metadata": {},
   "outputs": [],
   "source": [
    "new.Price = new.Price.astype('int')"
   ]
  },
  {
   "cell_type": "code",
   "execution_count": 10,
   "metadata": {},
   "outputs": [],
   "source": [
    "new.to_excel(\"Input Streamlit v3.xlsx\", index=False)"
   ]
  },
  {
   "cell_type": "code",
   "execution_count": 11,
   "metadata": {},
   "outputs": [
    {
     "name": "stdout",
     "output_type": "stream",
     "text": [
      "Excel file created with merged cells.\n"
     ]
    },
    {
     "name": "stderr",
     "output_type": "stream",
     "text": [
      "C:\\Users\\Zak\\AppData\\Local\\Temp\\ipykernel_17904\\4104683695.py:23: FutureWarning: save is not part of the public API, usage can give unexpected results and will be removed in a future version\n",
      "  writer.save()\n",
      "c:\\Users\\Zak\\anaconda3\\lib\\site-packages\\xlsxwriter\\workbook.py:369: UserWarning: Calling close() on already closed file.\n",
      "  warn(\"Calling close() on already closed file.\")\n"
     ]
    }
   ],
   "source": [
    "import pandas as pd\n",
    "\n",
    "# Sample data\n",
    "data = {\n",
    "    'Category': ['A', 'A', 'B', 'B', 'C'],\n",
    "    'Value': [10, 20, 30, 40, 50]\n",
    "}\n",
    "\n",
    "df = pd.DataFrame(data)\n",
    "\n",
    "# Merging cells in Excel\n",
    "with pd.ExcelWriter('output.xlsx', engine='xlsxwriter') as writer:\n",
    "    df.to_excel(writer, index=False, sheet_name='Sheet1')\n",
    "    \n",
    "    workbook  = writer.book\n",
    "    worksheet = writer.sheets['Sheet1']\n",
    "\n",
    "    # Merging cells in the 'Category' column for rows with the same category\n",
    "    worksheet.merge_range('A2:A3', 'A')\n",
    "    worksheet.merge_range('A4:A5', 'B')\n",
    "\n",
    "    # Save the workbook\n",
    "    writer.save()\n",
    "\n",
    "print(\"Excel file created with merged cells.\")\n"
   ]
  },
  {
   "cell_type": "code",
   "execution_count": 12,
   "metadata": {},
   "outputs": [
    {
     "data": {
      "text/html": [
       "<table border=\"1\"><tr><td rowspan=\"2\">A</td><td>10</td></tr><tr><td>20</td></tr><tr><td rowspan=\"2\">B</td><td>30</td></tr><tr><td>40</td></tr><tr><td rowspan=\"1\">C</td><td>50</td></tr></table>"
      ],
      "text/plain": [
       "<IPython.core.display.HTML object>"
      ]
     },
     "execution_count": 12,
     "metadata": {},
     "output_type": "execute_result"
    }
   ],
   "source": [
    "import pandas as pd\n",
    "from IPython.display import HTML\n",
    "\n",
    "# Sample data\n",
    "data = {\n",
    "    'Category': ['A', 'A', 'B', 'B', 'C'],\n",
    "    'Value': [10, 20, 30, 40, 50]\n",
    "}\n",
    "\n",
    "df = pd.DataFrame(data)\n",
    "\n",
    "# Creating HTML with merged cells\n",
    "def create_merged_html(df):\n",
    "    html = '<table border=\"1\">'\n",
    "    previous_category = None\n",
    "    for index, row in df.iterrows():\n",
    "        html += '<tr>'\n",
    "        \n",
    "        # Handle the 'Category' column with merged cells\n",
    "        if row['Category'] != previous_category:\n",
    "            span = df['Category'].value_counts()[row['Category']]\n",
    "            html += f'<td rowspan=\"{span}\">{row[\"Category\"]}</td>'\n",
    "            previous_category = row['Category']\n",
    "        \n",
    "        # Add the 'Value' column\n",
    "        html += f'<td>{row[\"Value\"]}</td>'\n",
    "        html += '</tr>'\n",
    "    \n",
    "    html += '</table>'\n",
    "    return html\n",
    "\n",
    "# Display the DataFrame with merged cells\n",
    "HTML(create_merged_html(df))\n"
   ]
  },
  {
   "cell_type": "code",
   "execution_count": 3,
   "metadata": {},
   "outputs": [
    {
     "data": {
      "text/plain": [
       "3"
      ]
     },
     "execution_count": 3,
     "metadata": {},
     "output_type": "execute_result"
    }
   ],
   "source": [
    "import math\n",
    "math.ceil(2.02)"
   ]
  },
  {
   "cell_type": "code",
   "execution_count": 6,
   "metadata": {},
   "outputs": [
    {
     "data": {
      "text/plain": [
       "6"
      ]
     },
     "execution_count": 6,
     "metadata": {},
     "output_type": "execute_result"
    }
   ],
   "source": [
    "import numpy as np\n",
    "a = [3,2,1]\n",
    "np.sum(a)"
   ]
  },
  {
   "cell_type": "code",
   "execution_count": 8,
   "metadata": {},
   "outputs": [
    {
     "data": {
      "text/html": [
       "<div>\n",
       "<style scoped>\n",
       "    .dataframe tbody tr th:only-of-type {\n",
       "        vertical-align: middle;\n",
       "    }\n",
       "\n",
       "    .dataframe tbody tr th {\n",
       "        vertical-align: top;\n",
       "    }\n",
       "\n",
       "    .dataframe thead th {\n",
       "        text-align: right;\n",
       "    }\n",
       "</style>\n",
       "<table border=\"1\" class=\"dataframe\">\n",
       "  <thead>\n",
       "    <tr style=\"text-align: right;\">\n",
       "      <th></th>\n",
       "      <th>0</th>\n",
       "    </tr>\n",
       "  </thead>\n",
       "  <tbody>\n",
       "    <tr>\n",
       "      <th>0</th>\n",
       "      <td>3</td>\n",
       "    </tr>\n",
       "    <tr>\n",
       "      <th>1</th>\n",
       "      <td>2</td>\n",
       "    </tr>\n",
       "    <tr>\n",
       "      <th>2</th>\n",
       "      <td>1</td>\n",
       "    </tr>\n",
       "  </tbody>\n",
       "</table>\n",
       "</div>"
      ],
      "text/plain": [
       "   0\n",
       "0  3\n",
       "1  2\n",
       "2  1"
      ]
     },
     "execution_count": 8,
     "metadata": {},
     "output_type": "execute_result"
    }
   ],
   "source": [
    "import pandas as pd\n",
    "\n",
    "pd.DataFrame(a)"
   ]
  },
  {
   "cell_type": "code",
   "execution_count": 10,
   "metadata": {},
   "outputs": [
    {
     "ename": "ValueError",
     "evalue": "not enough values to unpack (expected 2, got 1)",
     "output_type": "error",
     "traceback": [
      "\u001b[1;31m---------------------------------------------------------------------------\u001b[0m",
      "\u001b[1;31mValueError\u001b[0m                                Traceback (most recent call last)",
      "Cell \u001b[1;32mIn[10], line 1\u001b[0m\n\u001b[1;32m----> 1\u001b[0m \u001b[38;5;28;01mfor\u001b[39;00m row, item \u001b[38;5;129;01min\u001b[39;00m \u001b[38;5;28mzip\u001b[39m(a):\n\u001b[0;32m      2\u001b[0m     \u001b[38;5;28mprint\u001b[39m(row, item)\n",
      "\u001b[1;31mValueError\u001b[0m: not enough values to unpack (expected 2, got 1)"
     ]
    }
   ],
   "source": [
    "for row, item in zip(a):\n",
    "    print(row, item)"
   ]
  },
  {
   "cell_type": "code",
   "execution_count": 33,
   "metadata": {},
   "outputs": [
    {
     "data": {
      "text/plain": [
       "array(22.28325703)"
      ]
     },
     "execution_count": 33,
     "metadata": {},
     "output_type": "execute_result"
    }
   ],
   "source": [
    "import numpy_financial as npf\n",
    "import math\n",
    "\n",
    "monthly_interest_rate = ((1+0.12)**(1/12))-1\n",
    "\n",
    "LoanTerm_months = npf.nper(monthly_interest_rate, -400, 8000)\n",
    "LoanTerm_months\n",
    "# math.ceil(LoanTerm_months)"
   ]
  },
  {
   "cell_type": "code",
   "execution_count": 34,
   "metadata": {},
   "outputs": [
    {
     "data": {
      "text/plain": [
       "8000.810224141311"
      ]
     },
     "execution_count": 34,
     "metadata": {},
     "output_type": "execute_result"
    }
   ],
   "source": [
    "\n",
    "total_payment_rounded = npf.pv(monthly_interest_rate, LoanTerm_months, -400, -1)\n",
    "total_payment_rounded"
   ]
  },
  {
   "cell_type": "code",
   "execution_count": 39,
   "metadata": {},
   "outputs": [
    {
     "data": {
      "text/plain": [
       "3.637978807091713e-12"
      ]
     },
     "execution_count": 39,
     "metadata": {},
     "output_type": "execute_result"
    }
   ],
   "source": [
    "npf.fv(monthly_interest_rate, LoanTerm_months, -400, 8000)"
   ]
  },
  {
   "cell_type": "code",
   "execution_count": 36,
   "metadata": {},
   "outputs": [
    {
     "data": {
      "text/plain": [
       "8913.302810573141"
      ]
     },
     "execution_count": 36,
     "metadata": {},
     "output_type": "execute_result"
    }
   ],
   "source": [
    "LoanTerm_months * 400"
   ]
  },
  {
   "cell_type": "code",
   "execution_count": 42,
   "metadata": {},
   "outputs": [
    {
     "name": "stdout",
     "output_type": "stream",
     "text": [
      "Exact number of periods: 22.283257026432853\n",
      "Rounded number of periods: 23\n",
      "Regular monthly payment: $400.00\n",
      "Final payment to settle the loan: $113.69\n"
     ]
    }
   ],
   "source": [
    "import numpy_financial as npf\n",
    "import math\n",
    "\n",
    "# Given values\n",
    "pv = 8000  # Present Value (Loan amount)\n",
    "monthly_interest_rate = ((1 + 0.12) ** (1 / 12)) - 1  # Monthly interest rate based on annual rate of 12%\n",
    "pmt = -400  # Monthly payment (negative because it's an outflow)\n",
    "\n",
    "# Step 1: Calculate the exact number of periods (can be a float)\n",
    "nper_exact = npf.nper(monthly_interest_rate, pmt, pv)\n",
    "\n",
    "# Step 2: Round up the number of periods to the nearest whole number\n",
    "nper_rounded = math.ceil(nper_exact)\n",
    "\n",
    "# Step 3: Calculate the remaining balance after making nper_rounded - 1 payments\n",
    "remaining_balance = npf.fv(monthly_interest_rate, nper_rounded - 1, pmt, pv)\n",
    "\n",
    "# Step 4: Calculate the final payment to settle the remaining balance\n",
    "final_payment = remaining_balance * (1 + monthly_interest_rate)\n",
    "\n",
    "# Output the results\n",
    "print(f\"Exact number of periods: {nper_exact}\")\n",
    "print(f\"Rounded number of periods: {nper_rounded}\")\n",
    "print(f\"Regular monthly payment: ${-pmt:.2f}\")\n",
    "print(f\"Final payment to settle the loan: ${-final_payment:.2f}\")\n"
   ]
  },
  {
   "cell_type": "code",
   "execution_count": 41,
   "metadata": {},
   "outputs": [
    {
     "name": "stdout",
     "output_type": "stream",
     "text": [
      "Exact number of periods: 22.283257026432853\n",
      "Rounded number of periods: 23\n",
      "Regular monthly payment: $400.00\n",
      "Final payment to settle the loan: $113.69\n",
      "Total payment using exact periods: $8913.30\n",
      "Total payment using rounded periods: $8913.69\n"
     ]
    }
   ],
   "source": [
    "import numpy_financial as npf\n",
    "import math\n",
    "\n",
    "# Given values\n",
    "pv = 8000  # Present Value (Loan amount)\n",
    "monthly_interest_rate = ((1 + 0.12) ** (1 / 12)) - 1  # Monthly interest rate based on an annual rate of 12%\n",
    "pmt = -400  # Monthly payment (negative because it's an outflow)\n",
    "\n",
    "# Step 1: Calculate the exact number of periods (can be a float)\n",
    "nper_exact = npf.nper(monthly_interest_rate, pmt, pv)\n",
    "\n",
    "# Step 2: Round up the number of periods to the nearest whole number\n",
    "nper_rounded = math.ceil(nper_exact)\n",
    "\n",
    "# Step 3: Calculate the remaining balance after making nper_rounded - 1 payments\n",
    "remaining_balance = npf.fv(monthly_interest_rate, nper_rounded - 1, pmt, pv)\n",
    "\n",
    "# Step 4: Calculate the final payment to settle the remaining balance\n",
    "final_payment = remaining_balance * (1 + monthly_interest_rate)\n",
    "\n",
    "# Step 5: Calculate the total payment using the exact number of periods\n",
    "total_payment_exact = pmt * nper_exact\n",
    "\n",
    "# Step 6: Calculate the total payment using the rounded number of periods\n",
    "total_payment_rounded = (pmt * (nper_rounded - 1)) + final_payment\n",
    "\n",
    "# Output the results\n",
    "print(f\"Exact number of periods: {nper_exact}\")\n",
    "print(f\"Rounded number of periods: {nper_rounded}\")\n",
    "print(f\"Regular monthly payment: ${-pmt:.2f}\")\n",
    "print(f\"Final payment to settle the loan: ${-final_payment:.2f}\")\n",
    "print(f\"Total payment using exact periods: ${-total_payment_exact:.2f}\")\n",
    "print(f\"Total payment using rounded periods: ${-total_payment_rounded:.2f}\")"
   ]
  },
  {
   "cell_type": "code",
   "execution_count": 3,
   "metadata": {},
   "outputs": [
    {
     "data": {
      "text/plain": [
       "array(10.44489061)"
      ]
     },
     "execution_count": 3,
     "metadata": {},
     "output_type": "execute_result"
    }
   ],
   "source": [
    "import numpy_financial as npf\n",
    "import math\n",
    "\n",
    "monthly_interest_rate = ((1 + 0.12) ** (1 / 12)) - 1  # Monthly interest rate based on an annual rate of 12%\n",
    "\n",
    "npf.nper(monthly_interest_rate, -150, 1484,1)"
   ]
  },
  {
   "cell_type": "code",
   "execution_count": 5,
   "metadata": {},
   "outputs": [
    {
     "data": {
      "text/plain": [
       "0.9488792934583046"
      ]
     },
     "execution_count": 5,
     "metadata": {},
     "output_type": "execute_result"
    }
   ],
   "source": [
    "\n",
    "monthly_interest_rate *100"
   ]
  },
  {
   "cell_type": "code",
   "execution_count": null,
   "metadata": {},
   "outputs": [],
   "source": [
    "import pandas as pd\n",
    "\n",
    "# Loan parameters\n",
    "principal = 200000  # Principal loan amount\n",
    "annual_rate = 12  # Annual interest rate in percent\n",
    "loan_term_years = 30  # Loan term in years\n",
    "\n",
    "# Convert APR to a monthly interest rate\n",
    "monthly_rate = (annual_rate / 100) / 12  # Convert percentage to decimal and divide by 12 for monthly rate\n",
    "total_payments = loan_term_years * 12  # Total number of monthly payments\n",
    "\n",
    "# Calculate fixed monthly payment using the amortization formula\n",
    "monthly_payment = principal * (monthly_rate * (1 + monthly_rate) ** total_payments) / ((1 + monthly_rate) ** total_payments - 1)\n",
    "\n",
    "# Initialize variables for the loop\n",
    "remaining_principal = principal\n",
    "ratios = []\n",
    "\n",
    "# Calculate interest and principal for each month\n",
    "for month in range(1, total_payments + 1):\n",
    "    interest_payment = remaining_principal * monthly_rate\n",
    "    principal_payment = monthly_payment - interest_payment\n",
    "    ratio_interest_principal = interest_payment / principal_payment\n",
    "    ratios.append({\n",
    "        'Month': month,\n",
    "        'Interest Payment': interest_payment,\n",
    "        'Principal Payment': principal_payment,\n",
    "        'Interest/Principal Ratio': ratio_interest_principal\n",
    "    })\n",
    "    \n",
    "    # Update remaining principal\n",
    "    remaining_principal -= principal_payment\n",
    "\n",
    "# Create DataFrame\n",
    "df = pd.DataFrame(ratios)\n",
    "\n",
    "# Display the DataFrame\n",
    "print(df)\n"
   ]
  },
  {
   "cell_type": "code",
   "execution_count": 6,
   "metadata": {},
   "outputs": [
    {
     "name": "stdout",
     "output_type": "stream",
     "text": [
      "1963.289101086958\n",
      "     Month    Interest Payment  Principal Payment  Interest/Principal Ratio\n",
      "0        1  1897.7585869166091          65.530514                 28.959922\n",
      "1        2    1897.13678143675          66.152320                 28.678311\n",
      "2        3  1896.5090757734467          66.780025                 28.399346\n",
      "3        4  1895.8754139410805          67.413687                 28.123004\n",
      "4        5  1895.2357394227968          68.053362                 27.849260\n",
      "..     ...                 ...                ...                       ...\n",
      "355    356    90.5522942020241        1872.736807                  0.048353\n",
      "356    357   72.78228242051688        1890.506819                  0.038499\n",
      "357    358    54.8436546767767        1908.445446                  0.028737\n",
      "358    359   36.73481100883342        1926.554290                  0.019068\n",
      "359    360  18.454136273053965        1944.834965                  0.009489\n",
      "\n",
      "[360 rows x 4 columns]\n"
     ]
    }
   ],
   "source": [
    "import pandas as pd\n",
    "import numpy_financial as npf\n",
    "\n",
    "# Loan parameters\n",
    "principal = 200000  # Principal loan amount\n",
    "annual_rate = 12  # Annual interest rate in percent\n",
    "loan_term_years = 30  # Loan term in years\n",
    "\n",
    "# Convert APR to a monthly interest rate\n",
    "monthly_rate = (annual_rate / 100) / 12  # Convert percentage to decimal and divide by 12 for monthly rate\n",
    "\n",
    "monthly_rate  = ((1+(annual_rate/100))**(1/12))-1\n",
    "total_payments = loan_term_years * 12  # Total number of monthly payments\n",
    "\n",
    "# Calculate fixed monthly payment\n",
    "monthly_payment = npf.pmt(rate=monthly_rate, nper=total_payments, pv=-principal)\n",
    "print(monthly_payment)\n",
    "\n",
    "# Initialize list for storing results\n",
    "ratios = []\n",
    "\n",
    "# Calculate interest and principal portions for each month\n",
    "for month in range(1, total_payments + 1):\n",
    "    interest_payment = npf.ipmt(rate=monthly_rate, per=month, nper=total_payments, pv=-principal)\n",
    "    principal_payment = npf.ppmt(rate=monthly_rate, per=month, nper=total_payments, pv=-principal)\n",
    "    ratio_interest_principal = interest_payment / principal_payment\n",
    "    ratios.append({\n",
    "        'Month': month,\n",
    "        'Interest Payment': interest_payment,\n",
    "        'Principal Payment': principal_payment,\n",
    "        'Interest/Principal Ratio': ratio_interest_principal\n",
    "    })\n",
    "\n",
    "# Create DataFrame\n",
    "df = pd.DataFrame(ratios)\n",
    "\n",
    "# Display the DataFrame\n",
    "print(df)\n"
   ]
  },
  {
   "cell_type": "code",
   "execution_count": 4,
   "metadata": {},
   "outputs": [
    {
     "data": {
      "image/png": "[encoded data removed]",
      "text/plain": [
       "<Figure size 1200x600 with 1 Axes>"
      ]
     },
     "metadata": {},
     "output_type": "display_data"
    }
   ],
   "source": [
    "import pandas as pd\n",
    "import numpy_financial as npf\n",
    "import matplotlib.pyplot as plt\n",
    "\n",
    "# Loan parameters\n",
    "principal = 5000  # Principal loan amount\n",
    "annual_rate = 12  # Annual interest rate in percent\n",
    "loan_term_years = 4  # Loan term in years\n",
    "\n",
    "# Convert APR to a monthly interest rate\n",
    "monthly_rate = (annual_rate / 100) / 12  # Convert percentage to decimal and divide by 12 for monthly rate\n",
    "total_payments = loan_term_years * 12  # Total number of monthly payments\n",
    "\n",
    "# Calculate fixed monthly payment\n",
    "monthly_payment = npf.pmt(rate=monthly_rate, nper=total_payments, pv=-principal)\n",
    "\n",
    "# Initialize list for storing results\n",
    "ratios = []\n",
    "\n",
    "# Calculate interest and principal portions for each month\n",
    "for month in range(1, total_payments + 1):\n",
    "    interest_payment = npf.ipmt(rate=monthly_rate, per=month, nper=total_payments, pv=-principal)\n",
    "    principal_payment = npf.ppmt(rate=monthly_rate, per=month, nper=total_payments, pv=-principal)\n",
    "    ratios.append({\n",
    "        'Month': month,\n",
    "        'Interest Payment': interest_payment,\n",
    "        'Principal Payment': principal_payment\n",
    "    })\n",
    "\n",
    "# Create DataFrame\n",
    "df = pd.DataFrame(ratios)\n",
    "\n",
    "# Plotting the stacked bar chart\n",
    "plt.figure(figsize=(12, 6))\n",
    "plt.bar(df['Month'], df['Interest Payment'], label='Interest Payment', color='purple')\n",
    "plt.bar(df['Month'], df['Principal Payment'], bottom=df['Interest Payment'], label='Principal Payment', color='beige')\n",
    "\n",
    "plt.title('Monthly Interest and Principal Payments for a Fixed-Rate Loan')\n",
    "plt.xlabel('Month')\n",
    "plt.ylabel('Payment Amount ($)')\n",
    "plt.legend()\n",
    "plt.show()\n"
   ]
  },
  {
   "cell_type": "code",
   "execution_count": 31,
   "metadata": {},
   "outputs": [],
   "source": [
    "import pandas as pd\n",
    "import numpy_financial as npf\n",
    "import plotly.graph_objects as go\n",
    "\n",
    "def loan_amortization_plot(principal, annual_rate, loan_term_years):\n",
    "    \"\"\"\n",
    "    Function to calculate loan amortization schedule and plot it using Plotly.\n",
    "    \n",
    "    Parameters:\n",
    "    principal (float): Principal loan amount.\n",
    "    annual_rate (float): Annual interest rate in percent.\n",
    "    loan_term_years (int): Loan term in years.\n",
    "\n",
    "    Returns:\n",
    "    fig (plotly.graph_objs._figure.Figure): Plotly figure object representing the loan amortization schedule.\n",
    "    \"\"\"\n",
    "    # Convert APR to a monthly interest rate\n",
    "    monthly_rate = (annual_rate / 100) / 12  # Convert percentage to decimal and divide by 12 for monthly rate\n",
    "    total_payments = loan_term_years * 12  # Total number of monthly payments\n",
    "\n",
    "    # Calculate fixed monthly payment\n",
    "    monthly_payment = npf.pmt(rate=monthly_rate, nper=total_payments, pv=-principal)\n",
    "\n",
    "    # Initialize list for storing results\n",
    "    ratios = []\n",
    "\n",
    "    # Calculate interest and principal portions for each month\n",
    "    for month in range(1, total_payments + 1):\n",
    "        interest_payment = npf.ipmt(rate=monthly_rate, per=month, nper=total_payments, pv=-principal)\n",
    "        principal_payment = npf.ppmt(rate=monthly_rate, per=month, nper=total_payments, pv=-principal)\n",
    "        ratios.append({\n",
    "            'Month': month,\n",
    "            'Interest Payment': interest_payment,\n",
    "            'Principal Payment': principal_payment\n",
    "        })\n",
    "\n",
    "    # Create DataFrame\n",
    "    df = pd.DataFrame(ratios)\n",
    "\n",
    "    # Determine figure size dynamically based on number of data points\n",
    "    width = 600 if total_payments <= 12 else 40 * total_payments\n",
    "    height = 600 if total_payments <= 12 else 700\n",
    "\n",
    "    # Create stacked bar chart using Plotly\n",
    "    fig = go.Figure()\n",
    "\n",
    "    # Add interest payment bar\n",
    "    fig.add_trace(go.Bar(\n",
    "        x=df['Month'],\n",
    "        y=df['Interest Payment'],\n",
    "        name='Interest Payment',\n",
    "        marker_color='purple',\n",
    "        hovertext=[f\"Interest Payment: ${interest:.2f}\" for month, interest in zip(df['Month'], df['Interest Payment'])],\n",
    "        hoverinfo='text'\n",
    "    ))\n",
    "\n",
    "    # Add principal payment bar\n",
    "    fig.add_trace(go.Bar(\n",
    "        x=df['Month'],\n",
    "        y=df['Principal Payment'],\n",
    "        name='Principal Payment',\n",
    "        marker_color='beige',\n",
    "        hovertext=[f\"Month: {month}<br>Principal Payment: ${principal:.2f}\" for month, principal in zip(df['Month'], df['Principal Payment'])],\n",
    "        hoverinfo='text'\n",
    "    ))\n",
    "\n",
    "    # Update layout for better visualization\n",
    "    fig.update_layout(\n",
    "        title='Monthly Interest and Principal Payments for a Fixed-Rate Loan',\n",
    "        xaxis_title='Month',\n",
    "        yaxis_title='Payment Amount ($)',\n",
    "        barmode='stack',\n",
    "        legend=dict(x=0.01, y=0.99),\n",
    "        width=width,\n",
    "        height=height,\n",
    "        hovermode='x unified',  # This setting will show hover info for all data points at the same x-value\n",
    "    )\n",
    "\n",
    "    return fig\n",
    "\n"
   ]
  },
  {
   "cell_type": "code",
   "execution_count": 32,
   "metadata": {},
   "outputs": [
    {
     "data": {
      "application/vnd.plotly.v1+json": {
       "config": {
        "plotlyServerURL": "https://plot.ly"
       },
       "data": [
        {
         "hoverinfo": "text",
         "hovertext": [
          "Interest Payment: $50.00",
          "Interest Payment: $48.15",
          "Interest Payment: $46.27",
          "Interest Payment: $44.38",
          "Interest Payment: $42.47",
          "Interest Payment: $40.54",
          "Interest Payment: $38.60",
          "Interest Payment: $36.63",
          "Interest Payment: $34.64",
          "Interest Payment: $32.63",
          "Interest Payment: $30.61",
          "Interest Payment: $28.56",
          "Interest Payment: $26.49",
          "Interest Payment: $24.40",
          "Interest Payment: $22.29",
          "Interest Payment: $20.16",
          "Interest Payment: $18.01",
          "Interest Payment: $15.84",
          "Interest Payment: $13.64",
          "Interest Payment: $11.42",
          "Interest Payment: $9.18",
          "Interest Payment: $6.92",
          "Interest Payment: $4.64",
          "Interest Payment: $2.33"
         ],
         "marker": {
          "color": "purple"
         },
         "name": "Interest Payment",
         "type": "bar",
         "x": [
          1,
          2,
          3,
          4,
          5,
          6,
          7,
          8,
          9,
          10,
          11,
          12,
          13,
          14,
          15,
          16,
          17,
          18,
          19,
          20,
          21,
          22,
          23,
          24
         ],
         "y": [
          50,
          48.14632638883677,
          46.2741160415619,
          44.38318359081426,
          42.47334181555919,
          40.544401622551526,
          38.59617202761382,
          36.62846013672674,
          34.641071126930754,
          32.63380822703685,
          30.60647269814399,
          28.55886381396219,
          26.490778840938574,
          24.402013018184718,
          22.292359537203307,
          20.161609521412124,
          18.009552005462982,
          15.835973914354417,
          13.640660042334712,
          11.423393031594841,
          9.183953350747533,
          6.922119273091758,
          4.637666854659464,
          2.3303699120428245
         ]
        },
        {
         "hoverinfo": "text",
         "hovertext": [
          "Month: 1<br>Principal Payment: $185.37",
          "Month: 2<br>Principal Payment: $187.22",
          "Month: 3<br>Principal Payment: $189.09",
          "Month: 4<br>Principal Payment: $190.98",
          "Month: 5<br>Principal Payment: $192.89",
          "Month: 6<br>Principal Payment: $194.82",
          "Month: 7<br>Principal Payment: $196.77",
          "Month: 8<br>Principal Payment: $198.74",
          "Month: 9<br>Principal Payment: $200.73",
          "Month: 10<br>Principal Payment: $202.73",
          "Month: 11<br>Principal Payment: $204.76",
          "Month: 12<br>Principal Payment: $206.81",
          "Month: 13<br>Principal Payment: $208.88",
          "Month: 14<br>Principal Payment: $210.97",
          "Month: 15<br>Principal Payment: $213.08",
          "Month: 16<br>Principal Payment: $215.21",
          "Month: 17<br>Principal Payment: $217.36",
          "Month: 18<br>Principal Payment: $219.53",
          "Month: 19<br>Principal Payment: $221.73",
          "Month: 20<br>Principal Payment: $223.94",
          "Month: 21<br>Principal Payment: $226.18",
          "Month: 22<br>Principal Payment: $228.45",
          "Month: 23<br>Principal Payment: $230.73",
          "Month: 24<br>Principal Payment: $233.04"
         ],
         "marker": {
          "color": "beige"
         },
         "name": "Principal Payment",
         "type": "bar",
         "x": [
          1,
          2,
          3,
          4,
          5,
          6,
          7,
          8,
          9,
          10,
          11,
          12,
          13,
          14,
          15,
          16,
          17,
          18,
          19,
          20,
          21,
          22,
          23,
          24
         ],
         "y": [
          185.36736111632334,
          187.22103472748657,
          189.09324507476143,
          190.98417752550907,
          192.89401930076414,
          194.8229594937718,
          196.77118908870952,
          198.7389009795966,
          200.72628998939257,
          202.7335528892865,
          204.76088841817935,
          206.80849730236116,
          208.87658227538475,
          210.96534809813863,
          213.07500157912003,
          215.20575159491122,
          217.35780911086036,
          219.53138720196893,
          221.72670107398864,
          223.9439680847285,
          226.1834077655758,
          228.44524184323157,
          230.72969426166387,
          233.03699120428053
         ]
        }
       ],
       "layout": {
        "barmode": "stack",
        "height": 700,
        "hovermode": "x unified",
        "legend": {
         "x": 0.01,
         "y": 0.99
        },
        "template": {
         "data": {
          "bar": [
           {
            "error_x": {
             "color": "#2a3f5f"
            },
            "error_y": {
             "color": "#2a3f5f"
            },
            "marker": {
             "line": {
              "color": "#E5ECF6",
              "width": 0.5
             },
             "pattern": {
              "fillmode": "overlay",
              "size": 10,
              "solidity": 0.2
             }
            },
            "type": "bar"
           }
          ],
          "barpolar": [
           {
            "marker": {
             "line": {
              "color": "#E5ECF6",
              "width": 0.5
             },
             "pattern": {
              "fillmode": "overlay",
              "size": 10,
              "solidity": 0.2
             }
            },
            "type": "barpolar"
           }
          ],
          "carpet": [
           {
            "aaxis": {
             "endlinecolor": "#2a3f5f",
             "gridcolor": "white",
             "linecolor": "white",
             "minorgridcolor": "white",
             "startlinecolor": "#2a3f5f"
            },
            "baxis": {
             "endlinecolor": "#2a3f5f",
             "gridcolor": "white",
             "linecolor": "white",
             "minorgridcolor": "white",
             "startlinecolor": "#2a3f5f"
            },
            "type": "carpet"
           }
          ],
          "choropleth": [
           {
            "colorbar": {
             "outlinewidth": 0,
             "ticks": ""
            },
            "type": "choropleth"
           }
          ],
          "contour": [
           {
            "colorbar": {
             "outlinewidth": 0,
             "ticks": ""
            },
            "colorscale": [
             [
              0,
              "#0d0887"
             ],
             [
              0.1111111111111111,
              "#46039f"
             ],
             [
              0.2222222222222222,
              "#7201a8"
             ],
             [
              0.3333333333333333,
              "#9c179e"
             ],
             [
              0.4444444444444444,
              "#bd3786"
             ],
             [
              0.5555555555555556,
              "#d8576b"
             ],
             [
              0.6666666666666666,
              "#ed7953"
             ],
             [
              0.7777777777777778,
              "#fb9f3a"
             ],
             [
              0.8888888888888888,
              "#fdca26"
             ],
             [
              1,
              "#f0f921"
             ]
            ],
            "type": "contour"
           }
          ],
          "contourcarpet": [
           {
            "colorbar": {
             "outlinewidth": 0,
             "ticks": ""
            },
            "type": "contourcarpet"
           }
          ],
          "heatmap": [
           {
            "colorbar": {
             "outlinewidth": 0,
             "ticks": ""
            },
            "colorscale": [
             [
              0,
              "#0d0887"
             ],
             [
              0.1111111111111111,
              "#46039f"
             ],
             [
              0.2222222222222222,
              "#7201a8"
             ],
             [
              0.3333333333333333,
              "#9c179e"
             ],
             [
              0.4444444444444444,
              "#bd3786"
             ],
             [
              0.5555555555555556,
              "#d8576b"
             ],
             [
              0.6666666666666666,
              "#ed7953"
             ],
             [
              0.7777777777777778,
              "#fb9f3a"
             ],
             [
              0.8888888888888888,
              "#fdca26"
             ],
             [
              1,
              "#f0f921"
             ]
            ],
            "type": "heatmap"
           }
          ],
          "heatmapgl": [
           {
            "colorbar": {
             "outlinewidth": 0,
             "ticks": ""
            },
            "colorscale": [
             [
              0,
              "#0d0887"
             ],
             [
              0.1111111111111111,
              "#46039f"
             ],
             [
              0.2222222222222222,
              "#7201a8"
             ],
             [
              0.3333333333333333,
              "#9c179e"
             ],
             [
              0.4444444444444444,
              "#bd3786"
             ],
             [
              0.5555555555555556,
              "#d8576b"
             ],
             [
              0.6666666666666666,
              "#ed7953"
             ],
             [
              0.7777777777777778,
              "#fb9f3a"
             ],
             [
              0.8888888888888888,
              "#fdca26"
             ],
             [
              1,
              "#f0f921"
             ]
            ],
            "type": "heatmapgl"
           }
          ],
          "histogram": [
           {
            "marker": {
             "pattern": {
              "fillmode": "overlay",
              "size": 10,
              "solidity": 0.2
             }
            },
            "type": "histogram"
           }
          ],
          "histogram2d": [
           {
            "colorbar": {
             "outlinewidth": 0,
             "ticks": ""
            },
            "colorscale": [
             [
              0,
              "#0d0887"
             ],
             [
              0.1111111111111111,
              "#46039f"
             ],
             [
              0.2222222222222222,
              "#7201a8"
             ],
             [
              0.3333333333333333,
              "#9c179e"
             ],
             [
              0.4444444444444444,
              "#bd3786"
             ],
             [
              0.5555555555555556,
              "#d8576b"
             ],
             [
              0.6666666666666666,
              "#ed7953"
             ],
             [
              0.7777777777777778,
              "#fb9f3a"
             ],
             [
              0.8888888888888888,
              "#fdca26"
             ],
             [
              1,
              "#f0f921"
             ]
            ],
            "type": "histogram2d"
           }
          ],
          "histogram2dcontour": [
           {
            "colorbar": {
             "outlinewidth": 0,
             "ticks": ""
            },
            "colorscale": [
             [
              0,
              "#0d0887"
             ],
             [
              0.1111111111111111,
              "#46039f"
             ],
             [
              0.2222222222222222,
              "#7201a8"
             ],
             [
              0.3333333333333333,
              "#9c179e"
             ],
             [
              0.4444444444444444,
              "#bd3786"
             ],
             [
              0.5555555555555556,
              "#d8576b"
             ],
             [
              0.6666666666666666,
              "#ed7953"
             ],
             [
              0.7777777777777778,
              "#fb9f3a"
             ],
             [
              0.8888888888888888,
              "#fdca26"
             ],
             [
              1,
              "#f0f921"
             ]
            ],
            "type": "histogram2dcontour"
           }
          ],
          "mesh3d": [
           {
            "colorbar": {
             "outlinewidth": 0,
             "ticks": ""
            },
            "type": "mesh3d"
           }
          ],
          "parcoords": [
           {
            "line": {
             "colorbar": {
              "outlinewidth": 0,
              "ticks": ""
             }
            },
            "type": "parcoords"
           }
          ],
          "pie": [
           {
            "automargin": true,
            "type": "pie"
           }
          ],
          "scatter": [
           {
            "fillpattern": {
             "fillmode": "overlay",
             "size": 10,
             "solidity": 0.2
            },
            "type": "scatter"
           }
          ],
          "scatter3d": [
           {
            "line": {
             "colorbar": {
              "outlinewidth": 0,
              "ticks": ""
             }
            },
            "marker": {
             "colorbar": {
              "outlinewidth": 0,
              "ticks": ""
             }
            },
            "type": "scatter3d"
           }
          ],
          "scattercarpet": [
           {
            "marker": {
             "colorbar": {
              "outlinewidth": 0,
              "ticks": ""
             }
            },
            "type": "scattercarpet"
           }
          ],
          "scattergeo": [
           {
            "marker": {
             "colorbar": {
              "outlinewidth": 0,
              "ticks": ""
             }
            },
            "type": "scattergeo"
           }
          ],
          "scattergl": [
           {
            "marker": {
             "colorbar": {
              "outlinewidth": 0,
              "ticks": ""
             }
            },
            "type": "scattergl"
           }
          ],
          "scattermapbox": [
           {
            "marker": {
             "colorbar": {
              "outlinewidth": 0,
              "ticks": ""
             }
            },
            "type": "scattermapbox"
           }
          ],
          "scatterpolar": [
           {
            "marker": {
             "colorbar": {
              "outlinewidth": 0,
              "ticks": ""
             }
            },
            "type": "scatterpolar"
           }
          ],
          "scatterpolargl": [
           {
            "marker": {
             "colorbar": {
              "outlinewidth": 0,
              "ticks": ""
             }
            },
            "type": "scatterpolargl"
           }
          ],
          "scatterternary": [
           {
            "marker": {
             "colorbar": {
              "outlinewidth": 0,
              "ticks": ""
             }
            },
            "type": "scatterternary"
           }
          ],
          "surface": [
           {
            "colorbar": {
             "outlinewidth": 0,
             "ticks": ""
            },
            "colorscale": [
             [
              0,
              "#0d0887"
             ],
             [
              0.1111111111111111,
              "#46039f"
             ],
             [
              0.2222222222222222,
              "#7201a8"
             ],
             [
              0.3333333333333333,
              "#9c179e"
             ],
             [
              0.4444444444444444,
              "#bd3786"
             ],
             [
              0.5555555555555556,
              "#d8576b"
             ],
             [
              0.6666666666666666,
              "#ed7953"
             ],
             [
              0.7777777777777778,
              "#fb9f3a"
             ],
             [
              0.8888888888888888,
              "#fdca26"
             ],
             [
              1,
              "#f0f921"
             ]
            ],
            "type": "surface"
           }
          ],
          "table": [
           {
            "cells": {
             "fill": {
              "color": "#EBF0F8"
             },
             "line": {
              "color": "white"
             }
            },
            "header": {
             "fill": {
              "color": "#C8D4E3"
             },
             "line": {
              "color": "white"
             }
            },
            "type": "table"
           }
          ]
         },
         "layout": {
          "annotationdefaults": {
           "arrowcolor": "#2a3f5f",
           "arrowhead": 0,
           "arrowwidth": 1
          },
          "autotypenumbers": "strict",
          "coloraxis": {
           "colorbar": {
            "outlinewidth": 0,
            "ticks": ""
           }
          },
          "colorscale": {
           "diverging": [
            [
             0,
             "#8e0152"
            ],
            [
             0.1,
             "#c51b7d"
            ],
            [
             0.2,
             "#de77ae"
            ],
            [
             0.3,
             "#f1b6da"
            ],
            [
             0.4,
             "#fde0ef"
            ],
            [
             0.5,
             "#f7f7f7"
            ],
            [
             0.6,
             "#e6f5d0"
            ],
            [
             0.7,
             "#b8e186"
            ],
            [
             0.8,
             "#7fbc41"
            ],
            [
             0.9,
             "#4d9221"
            ],
            [
             1,
             "#276419"
            ]
           ],
           "sequential": [
            [
             0,
             "#0d0887"
            ],
            [
             0.1111111111111111,
             "#46039f"
            ],
            [
             0.2222222222222222,
             "#7201a8"
            ],
            [
             0.3333333333333333,
             "#9c179e"
            ],
            [
             0.4444444444444444,
             "#bd3786"
            ],
            [
             0.5555555555555556,
             "#d8576b"
            ],
            [
             0.6666666666666666,
             "#ed7953"
            ],
            [
             0.7777777777777778,
             "#fb9f3a"
            ],
            [
             0.8888888888888888,
             "#fdca26"
            ],
            [
             1,
             "#f0f921"
            ]
           ],
           "sequentialminus": [
            [
             0,
             "#0d0887"
            ],
            [
             0.1111111111111111,
             "#46039f"
            ],
            [
             0.2222222222222222,
             "#7201a8"
            ],
            [
             0.3333333333333333,
             "#9c179e"
            ],
            [
             0.4444444444444444,
             "#bd3786"
            ],
            [
             0.5555555555555556,
             "#d8576b"
            ],
            [
             0.6666666666666666,
             "#ed7953"
            ],
            [
             0.7777777777777778,
             "#fb9f3a"
            ],
            [
             0.8888888888888888,
             "#fdca26"
            ],
            [
             1,
             "#f0f921"
            ]
           ]
          },
          "colorway": [
           "#636efa",
           "#EF553B",
           "#00cc96",
           "#ab63fa",
           "#FFA15A",
           "#19d3f3",
           "#FF6692",
           "#B6E880",
           "#FF97FF",
           "#FECB52"
          ],
          "font": {
           "color": "#2a3f5f"
          },
          "geo": {
           "bgcolor": "white",
           "lakecolor": "white",
           "landcolor": "#E5ECF6",
           "showlakes": true,
           "showland": true,
           "subunitcolor": "white"
          },
          "hoverlabel": {
           "align": "left"
          },
          "hovermode": "closest",
          "mapbox": {
           "style": "light"
          },
          "paper_bgcolor": "white",
          "plot_bgcolor": "#E5ECF6",
          "polar": {
           "angularaxis": {
            "gridcolor": "white",
            "linecolor": "white",
            "ticks": ""
           },
           "bgcolor": "#E5ECF6",
           "radialaxis": {
            "gridcolor": "white",
            "linecolor": "white",
            "ticks": ""
           }
          },
          "scene": {
           "xaxis": {
            "backgroundcolor": "#E5ECF6",
            "gridcolor": "white",
            "gridwidth": 2,
            "linecolor": "white",
            "showbackground": true,
            "ticks": "",
            "zerolinecolor": "white"
           },
           "yaxis": {
            "backgroundcolor": "#E5ECF6",
            "gridcolor": "white",
            "gridwidth": 2,
            "linecolor": "white",
            "showbackground": true,
            "ticks": "",
            "zerolinecolor": "white"
           },
           "zaxis": {
            "backgroundcolor": "#E5ECF6",
            "gridcolor": "white",
            "gridwidth": 2,
            "linecolor": "white",
            "showbackground": true,
            "ticks": "",
            "zerolinecolor": "white"
           }
          },
          "shapedefaults": {
           "line": {
            "color": "#2a3f5f"
           }
          },
          "ternary": {
           "aaxis": {
            "gridcolor": "white",
            "linecolor": "white",
            "ticks": ""
           },
           "baxis": {
            "gridcolor": "white",
            "linecolor": "white",
            "ticks": ""
           },
           "bgcolor": "#E5ECF6",
           "caxis": {
            "gridcolor": "white",
            "linecolor": "white",
            "ticks": ""
           }
          },
          "title": {
           "x": 0.05
          },
          "xaxis": {
           "automargin": true,
           "gridcolor": "white",
           "linecolor": "white",
           "ticks": "",
           "title": {
            "standoff": 15
           },
           "zerolinecolor": "white",
           "zerolinewidth": 2
          },
          "yaxis": {
           "automargin": true,
           "gridcolor": "white",
           "linecolor": "white",
           "ticks": "",
           "title": {
            "standoff": 15
           },
           "zerolinecolor": "white",
           "zerolinewidth": 2
          }
         }
        },
        "title": {
         "text": "Monthly Interest and Principal Payments for a Fixed-Rate Loan"
        },
        "width": 960,
        "xaxis": {
         "title": {
          "text": "Month"
         }
        },
        "yaxis": {
         "title": {
          "text": "Payment Amount ($)"
         }
        }
       }
      }
     },
     "metadata": {},
     "output_type": "display_data"
    }
   ],
   "source": [
    "\n",
    "\n",
    "# Example usage\n",
    "principal = 5000\n",
    "annual_rate = 12\n",
    "loan_term_years = 2\n",
    "\n",
    "fig = loan_amortization_plot(principal, annual_rate, loan_term_years)\n",
    "fig.show()\n"
   ]
  },
  {
   "cell_type": "code",
   "execution_count": 73,
   "metadata": {},
   "outputs": [],
   "source": [
    "import pandas as pd\n",
    "import numpy_financial as npf\n",
    "import plotly.graph_objects as go\n",
    "import math\n",
    "\n",
    "def loan_amortization_custom_payment(principal, annual_rate, monthly_payment):\n",
    "    \"\"\"\n",
    "    Function to calculate loan amortization schedule based on a fixed monthly payment using Plotly.\n",
    "    \n",
    "    Parameters:\n",
    "    principal (float): Principal loan amount.\n",
    "    annual_rate (float): Annual interest rate in percent.\n",
    "    monthly_payment (float): Fixed monthly payment.\n",
    "\n",
    "    Returns:\n",
    "    fig (plotly.graph_objs._figure.Figure): Plotly figure object representing the loan amortization schedule.\n",
    "    \"\"\"\n",
    "    # Convert APR to a monthly interest rate\n",
    "    monthly_rate = (annual_rate / 100) / 12  # Convert percentage to decimal and divide by 12 for monthly rate\n",
    "\n",
    "    # Calculate the loan term in months (can be a decimal)\n",
    "    loan_term_months = npf.nper(rate=monthly_rate, pmt=-monthly_payment, pv=principal)\n",
    "    \n",
    "    # Round up to the nearest whole number of months\n",
    "    loan_term_months_rounded = math.ceil(loan_term_months)\n",
    "    print(loan_term_months_rounded)\n",
    "\n",
    "    # Calculate the remaining balance after making loan_term_months_rounded - 1 payments\n",
    "    remaining_balance = npf.fv(rate=monthly_rate, nper=loan_term_months_rounded - 1, pmt=-monthly_payment, pv=principal)\n",
    "    print(remaining_balance)\n",
    "    \n",
    "    # Calculate the final payment to settle the remaining balance\n",
    "    final_payment = -(remaining_balance * (1 + monthly_rate))\n",
    "    \n",
    "    print(final_payment)\n",
    "\n",
    "    # Initialize list for storing results\n",
    "    ratios = []\n",
    "\n",
    "    # Calculate interest and principal portions for each month\n",
    "    for month in range(1, loan_term_months_rounded + 1):\n",
    "        if month == loan_term_months_rounded:\n",
    "            # Use the final payment for the last month\n",
    "            interest_payment = npf.ipmt(rate=monthly_rate, per=month, nper=loan_term_months_rounded, pv=-principal)\n",
    "            principal_payment = final_payment - interest_payment\n",
    "        else:\n",
    "            interest_payment = npf.ipmt(rate=monthly_rate, per=month, nper=loan_term_months_rounded, pv=-principal)\n",
    "            principal_payment = monthly_payment - interest_payment\n",
    "        \n",
    "        # Append results for each month\n",
    "        ratios.append({\n",
    "            'Month': month,\n",
    "            'Interest Payment': interest_payment,\n",
    "            'Principal Payment': principal_payment,\n",
    "            'Total Payment': principal_payment + interest_payment\n",
    "        })\n",
    "\n",
    "    # Create DataFrame\n",
    "    df = pd.DataFrame(ratios)\n",
    "\n",
    "    # Print the DataFrame for debugging\n",
    "    print(df)\n",
    "\n",
    "    # Determine figure size dynamically based on number of data points\n",
    "    width = 600 if loan_term_months_rounded <= 12 else 40 * loan_term_months_rounded\n",
    "    height = 600 if loan_term_months_rounded <= 12 else 700\n",
    "\n",
    "    # Create stacked bar chart using Plotly\n",
    "    fig = go.Figure()\n",
    "\n",
    "    # Add interest payment bar\n",
    "    fig.add_trace(go.Bar(\n",
    "        x=df['Month'],\n",
    "        y=df['Interest Payment'],\n",
    "        name='Interest Payment',\n",
    "        marker_color='purple',\n",
    "        hovertext=[f\"Month: {month}<br>Interest Payment: ${interest:.2f}\" for month, interest in zip(df['Month'], df['Interest Payment'])],\n",
    "        hoverinfo='text'\n",
    "    ))\n",
    "\n",
    "    # Add principal payment bar\n",
    "    fig.add_trace(go.Bar(\n",
    "        x=df['Month'],\n",
    "        y=df['Principal Payment'],\n",
    "        name='Principal Payment',\n",
    "        marker_color='beige',\n",
    "        hovertext=[f\"Month: {month}<br>Principal Payment: ${principal:.2f}\" for month, principal in zip(df['Month'], df['Principal Payment'])],\n",
    "        hoverinfo='text'\n",
    "    ))\n",
    "\n",
    "    # Update layout for better visualization\n",
    "    fig.update_layout(\n",
    "        title='Monthly Interest and Principal Payments for a Fixed-Rate Loan with Custom Monthly Payment',\n",
    "        xaxis_title='Month',\n",
    "        yaxis_title='Payment Amount ($)',\n",
    "        barmode='stack',\n",
    "        legend=dict(x=0.01, y=0.99),\n",
    "        width=width,\n",
    "        height=height,\n",
    "        hovermode='x unified',  # This setting will show hover info for all data points at the same x-value\n",
    "    )\n",
    "\n",
    "    return fig\n",
    "\n",
    "\n"
   ]
  },
  {
   "cell_type": "code",
   "execution_count": 77,
   "metadata": {},
   "outputs": [
    {
     "name": "stdout",
     "output_type": "stream",
     "text": [
      "12\n",
      "-4.132826437264612\n",
      "4.174154701637258\n",
      "    Month    Interest Payment  Principal Payment  Total Payment\n",
      "0       1             20.7723         179.227700     200.000000\n",
      "1       2   19.13442930693688         180.865571     200.000000\n",
      "2       3  17.480179906943135         182.519820     200.000000\n",
      "3       4  15.809388012949427         184.190612     200.000000\n",
      "4       5  14.121888200015825         185.878112     200.000000\n",
      "5       6  12.417513388952846         187.582487     200.000000\n",
      "6       7  10.696094829779259         189.303905     200.000000\n",
      "7       8    8.95746208501395         191.042538     200.000000\n",
      "8       9    7.20144301280096         192.798557     200.000000\n",
      "9      10   5.427863749865878         194.572136     200.000000\n",
      "10     11   3.636548694301414         196.363451     200.000000\n",
      "11     12  1.8273204881813125           2.346834       4.174155\n"
     ]
    },
    {
     "data": {
      "application/vnd.plotly.v1+json": {
       "config": {
        "plotlyServerURL": "https://plot.ly"
       },
       "data": [
        {
         "hoverinfo": "text",
         "hovertext": [
          "Month: 1<br>Interest Payment: $20.77",
          "Month: 2<br>Interest Payment: $19.13",
          "Month: 3<br>Interest Payment: $17.48",
          "Month: 4<br>Interest Payment: $15.81",
          "Month: 5<br>Interest Payment: $14.12",
          "Month: 6<br>Interest Payment: $12.42",
          "Month: 7<br>Interest Payment: $10.70",
          "Month: 8<br>Interest Payment: $8.96",
          "Month: 9<br>Interest Payment: $7.20",
          "Month: 10<br>Interest Payment: $5.43",
          "Month: 11<br>Interest Payment: $3.64",
          "Month: 12<br>Interest Payment: $1.83"
         ],
         "marker": {
          "color": "purple"
         },
         "name": "Interest Payment",
         "type": "bar",
         "x": [
          1,
          2,
          3,
          4,
          5,
          6,
          7,
          8,
          9,
          10,
          11,
          12
         ],
         "y": [
          20.7723,
          19.13442930693688,
          17.480179906943135,
          15.809388012949427,
          14.121888200015825,
          12.417513388952846,
          10.696094829779259,
          8.95746208501395,
          7.20144301280096,
          5.427863749865878,
          3.636548694301414,
          1.8273204881813125
         ]
        },
        {
         "hoverinfo": "text",
         "hovertext": [
          "Month: 1<br>Principal Payment: $179.23",
          "Month: 2<br>Principal Payment: $180.87",
          "Month: 3<br>Principal Payment: $182.52",
          "Month: 4<br>Principal Payment: $184.19",
          "Month: 5<br>Principal Payment: $185.88",
          "Month: 6<br>Principal Payment: $187.58",
          "Month: 7<br>Principal Payment: $189.30",
          "Month: 8<br>Principal Payment: $191.04",
          "Month: 9<br>Principal Payment: $192.80",
          "Month: 10<br>Principal Payment: $194.57",
          "Month: 11<br>Principal Payment: $196.36",
          "Month: 12<br>Principal Payment: $2.35"
         ],
         "marker": {
          "color": "beige"
         },
         "name": "Principal Payment",
         "type": "bar",
         "x": [
          1,
          2,
          3,
          4,
          5,
          6,
          7,
          8,
          9,
          10,
          11,
          12
         ],
         "y": [
          179.2277,
          180.86557069306312,
          182.51982009305686,
          184.19061198705057,
          185.87811179998417,
          187.58248661104716,
          189.30390517022073,
          191.04253791498604,
          192.79855698719905,
          194.57213625013412,
          196.3634513056986,
          2.3468342134559457
         ]
        }
       ],
       "layout": {
        "barmode": "stack",
        "height": 600,
        "hovermode": "x unified",
        "legend": {
         "x": 0.01,
         "y": 0.99
        },
        "template": {
         "data": {
          "bar": [
           {
            "error_x": {
             "color": "#2a3f5f"
            },
            "error_y": {
             "color": "#2a3f5f"
            },
            "marker": {
             "line": {
              "color": "#E5ECF6",
              "width": 0.5
             },
             "pattern": {
              "fillmode": "overlay",
              "size": 10,
              "solidity": 0.2
             }
            },
            "type": "bar"
           }
          ],
          "barpolar": [
           {
            "marker": {
             "line": {
              "color": "#E5ECF6",
              "width": 0.5
             },
             "pattern": {
              "fillmode": "overlay",
              "size": 10,
              "solidity": 0.2
             }
            },
            "type": "barpolar"
           }
          ],
          "carpet": [
           {
            "aaxis": {
             "endlinecolor": "#2a3f5f",
             "gridcolor": "white",
             "linecolor": "white",
             "minorgridcolor": "white",
             "startlinecolor": "#2a3f5f"
            },
            "baxis": {
             "endlinecolor": "#2a3f5f",
             "gridcolor": "white",
             "linecolor": "white",
             "minorgridcolor": "white",
             "startlinecolor": "#2a3f5f"
            },
            "type": "carpet"
           }
          ],
          "choropleth": [
           {
            "colorbar": {
             "outlinewidth": 0,
             "ticks": ""
            },
            "type": "choropleth"
           }
          ],
          "contour": [
           {
            "colorbar": {
             "outlinewidth": 0,
             "ticks": ""
            },
            "colorscale": [
             [
              0,
              "#0d0887"
             ],
             [
              0.1111111111111111,
              "#46039f"
             ],
             [
              0.2222222222222222,
              "#7201a8"
             ],
             [
              0.3333333333333333,
              "#9c179e"
             ],
             [
              0.4444444444444444,
              "#bd3786"
             ],
             [
              0.5555555555555556,
              "#d8576b"
             ],
             [
              0.6666666666666666,
              "#ed7953"
             ],
             [
              0.7777777777777778,
              "#fb9f3a"
             ],
             [
              0.8888888888888888,
              "#fdca26"
             ],
             [
              1,
              "#f0f921"
             ]
            ],
            "type": "contour"
           }
          ],
          "contourcarpet": [
           {
            "colorbar": {
             "outlinewidth": 0,
             "ticks": ""
            },
            "type": "contourcarpet"
           }
          ],
          "heatmap": [
           {
            "colorbar": {
             "outlinewidth": 0,
             "ticks": ""
            },
            "colorscale": [
             [
              0,
              "#0d0887"
             ],
             [
              0.1111111111111111,
              "#46039f"
             ],
             [
              0.2222222222222222,
              "#7201a8"
             ],
             [
              0.3333333333333333,
              "#9c179e"
             ],
             [
              0.4444444444444444,
              "#bd3786"
             ],
             [
              0.5555555555555556,
              "#d8576b"
             ],
             [
              0.6666666666666666,
              "#ed7953"
             ],
             [
              0.7777777777777778,
              "#fb9f3a"
             ],
             [
              0.8888888888888888,
              "#fdca26"
             ],
             [
              1,
              "#f0f921"
             ]
            ],
            "type": "heatmap"
           }
          ],
          "heatmapgl": [
           {
            "colorbar": {
             "outlinewidth": 0,
             "ticks": ""
            },
            "colorscale": [
             [
              0,
              "#0d0887"
             ],
             [
              0.1111111111111111,
              "#46039f"
             ],
             [
              0.2222222222222222,
              "#7201a8"
             ],
             [
              0.3333333333333333,
              "#9c179e"
             ],
             [
              0.4444444444444444,
              "#bd3786"
             ],
             [
              0.5555555555555556,
              "#d8576b"
             ],
             [
              0.6666666666666666,
              "#ed7953"
             ],
             [
              0.7777777777777778,
              "#fb9f3a"
             ],
             [
              0.8888888888888888,
              "#fdca26"
             ],
             [
              1,
              "#f0f921"
             ]
            ],
            "type": "heatmapgl"
           }
          ],
          "histogram": [
           {
            "marker": {
             "pattern": {
              "fillmode": "overlay",
              "size": 10,
              "solidity": 0.2
             }
            },
            "type": "histogram"
           }
          ],
          "histogram2d": [
           {
            "colorbar": {
             "outlinewidth": 0,
             "ticks": ""
            },
            "colorscale": [
             [
              0,
              "#0d0887"
             ],
             [
              0.1111111111111111,
              "#46039f"
             ],
             [
              0.2222222222222222,
              "#7201a8"
             ],
             [
              0.3333333333333333,
              "#9c179e"
             ],
             [
              0.4444444444444444,
              "#bd3786"
             ],
             [
              0.5555555555555556,
              "#d8576b"
             ],
             [
              0.6666666666666666,
              "#ed7953"
             ],
             [
              0.7777777777777778,
              "#fb9f3a"
             ],
             [
              0.8888888888888888,
              "#fdca26"
             ],
             [
              1,
              "#f0f921"
             ]
            ],
            "type": "histogram2d"
           }
          ],
          "histogram2dcontour": [
           {
            "colorbar": {
             "outlinewidth": 0,
             "ticks": ""
            },
            "colorscale": [
             [
              0,
              "#0d0887"
             ],
             [
              0.1111111111111111,
              "#46039f"
             ],
             [
              0.2222222222222222,
              "#7201a8"
             ],
             [
              0.3333333333333333,
              "#9c179e"
             ],
             [
              0.4444444444444444,
              "#bd3786"
             ],
             [
              0.5555555555555556,
              "#d8576b"
             ],
             [
              0.6666666666666666,
              "#ed7953"
             ],
             [
              0.7777777777777778,
              "#fb9f3a"
             ],
             [
              0.8888888888888888,
              "#fdca26"
             ],
             [
              1,
              "#f0f921"
             ]
            ],
            "type": "histogram2dcontour"
           }
          ],
          "mesh3d": [
           {
            "colorbar": {
             "outlinewidth": 0,
             "ticks": ""
            },
            "type": "mesh3d"
           }
          ],
          "parcoords": [
           {
            "line": {
             "colorbar": {
              "outlinewidth": 0,
              "ticks": ""
             }
            },
            "type": "parcoords"
           }
          ],
          "pie": [
           {
            "automargin": true,
            "type": "pie"
           }
          ],
          "scatter": [
           {
            "fillpattern": {
             "fillmode": "overlay",
             "size": 10,
             "solidity": 0.2
            },
            "type": "scatter"
           }
          ],
          "scatter3d": [
           {
            "line": {
             "colorbar": {
              "outlinewidth": 0,
              "ticks": ""
             }
            },
            "marker": {
             "colorbar": {
              "outlinewidth": 0,
              "ticks": ""
             }
            },
            "type": "scatter3d"
           }
          ],
          "scattercarpet": [
           {
            "marker": {
             "colorbar": {
              "outlinewidth": 0,
              "ticks": ""
             }
            },
            "type": "scattercarpet"
           }
          ],
          "scattergeo": [
           {
            "marker": {
             "colorbar": {
              "outlinewidth": 0,
              "ticks": ""
             }
            },
            "type": "scattergeo"
           }
          ],
          "scattergl": [
           {
            "marker": {
             "colorbar": {
              "outlinewidth": 0,
              "ticks": ""
             }
            },
            "type": "scattergl"
           }
          ],
          "scattermapbox": [
           {
            "marker": {
             "colorbar": {
              "outlinewidth": 0,
              "ticks": ""
             }
            },
            "type": "scattermapbox"
           }
          ],
          "scatterpolar": [
           {
            "marker": {
             "colorbar": {
              "outlinewidth": 0,
              "ticks": ""
             }
            },
            "type": "scatterpolar"
           }
          ],
          "scatterpolargl": [
           {
            "marker": {
             "colorbar": {
              "outlinewidth": 0,
              "ticks": ""
             }
            },
            "type": "scatterpolargl"
           }
          ],
          "scatterternary": [
           {
            "marker": {
             "colorbar": {
              "outlinewidth": 0,
              "ticks": ""
             }
            },
            "type": "scatterternary"
           }
          ],
          "surface": [
           {
            "colorbar": {
             "outlinewidth": 0,
             "ticks": ""
            },
            "colorscale": [
             [
              0,
              "#0d0887"
             ],
             [
              0.1111111111111111,
              "#46039f"
             ],
             [
              0.2222222222222222,
              "#7201a8"
             ],
             [
              0.3333333333333333,
              "#9c179e"
             ],
             [
              0.4444444444444444,
              "#bd3786"
             ],
             [
              0.5555555555555556,
              "#d8576b"
             ],
             [
              0.6666666666666666,
              "#ed7953"
             ],
             [
              0.7777777777777778,
              "#fb9f3a"
             ],
             [
              0.8888888888888888,
              "#fdca26"
             ],
             [
              1,
              "#f0f921"
             ]
            ],
            "type": "surface"
           }
          ],
          "table": [
           {
            "cells": {
             "fill": {
              "color": "#EBF0F8"
             },
             "line": {
              "color": "white"
             }
            },
            "header": {
             "fill": {
              "color": "#C8D4E3"
             },
             "line": {
              "color": "white"
             }
            },
            "type": "table"
           }
          ]
         },
         "layout": {
          "annotationdefaults": {
           "arrowcolor": "#2a3f5f",
           "arrowhead": 0,
           "arrowwidth": 1
          },
          "autotypenumbers": "strict",
          "coloraxis": {
           "colorbar": {
            "outlinewidth": 0,
            "ticks": ""
           }
          },
          "colorscale": {
           "diverging": [
            [
             0,
             "#8e0152"
            ],
            [
             0.1,
             "#c51b7d"
            ],
            [
             0.2,
             "#de77ae"
            ],
            [
             0.3,
             "#f1b6da"
            ],
            [
             0.4,
             "#fde0ef"
            ],
            [
             0.5,
             "#f7f7f7"
            ],
            [
             0.6,
             "#e6f5d0"
            ],
            [
             0.7,
             "#b8e186"
            ],
            [
             0.8,
             "#7fbc41"
            ],
            [
             0.9,
             "#4d9221"
            ],
            [
             1,
             "#276419"
            ]
           ],
           "sequential": [
            [
             0,
             "#0d0887"
            ],
            [
             0.1111111111111111,
             "#46039f"
            ],
            [
             0.2222222222222222,
             "#7201a8"
            ],
            [
             0.3333333333333333,
             "#9c179e"
            ],
            [
             0.4444444444444444,
             "#bd3786"
            ],
            [
             0.5555555555555556,
             "#d8576b"
            ],
            [
             0.6666666666666666,
             "#ed7953"
            ],
            [
             0.7777777777777778,
             "#fb9f3a"
            ],
            [
             0.8888888888888888,
             "#fdca26"
            ],
            [
             1,
             "#f0f921"
            ]
           ],
           "sequentialminus": [
            [
             0,
             "#0d0887"
            ],
            [
             0.1111111111111111,
             "#46039f"
            ],
            [
             0.2222222222222222,
             "#7201a8"
            ],
            [
             0.3333333333333333,
             "#9c179e"
            ],
            [
             0.4444444444444444,
             "#bd3786"
            ],
            [
             0.5555555555555556,
             "#d8576b"
            ],
            [
             0.6666666666666666,
             "#ed7953"
            ],
            [
             0.7777777777777778,
             "#fb9f3a"
            ],
            [
             0.8888888888888888,
             "#fdca26"
            ],
            [
             1,
             "#f0f921"
            ]
           ]
          },
          "colorway": [
           "#636efa",
           "#EF553B",
           "#00cc96",
           "#ab63fa",
           "#FFA15A",
           "#19d3f3",
           "#FF6692",
           "#B6E880",
           "#FF97FF",
           "#FECB52"
          ],
          "font": {
           "color": "#2a3f5f"
          },
          "geo": {
           "bgcolor": "white",
           "lakecolor": "white",
           "landcolor": "#E5ECF6",
           "showlakes": true,
           "showland": true,
           "subunitcolor": "white"
          },
          "hoverlabel": {
           "align": "left"
          },
          "hovermode": "closest",
          "mapbox": {
           "style": "light"
          },
          "paper_bgcolor": "white",
          "plot_bgcolor": "#E5ECF6",
          "polar": {
           "angularaxis": {
            "gridcolor": "white",
            "linecolor": "white",
            "ticks": ""
           },
           "bgcolor": "#E5ECF6",
           "radialaxis": {
            "gridcolor": "white",
            "linecolor": "white",
            "ticks": ""
           }
          },
          "scene": {
           "xaxis": {
            "backgroundcolor": "#E5ECF6",
            "gridcolor": "white",
            "gridwidth": 2,
            "linecolor": "white",
            "showbackground": true,
            "ticks": "",
            "zerolinecolor": "white"
           },
           "yaxis": {
            "backgroundcolor": "#E5ECF6",
            "gridcolor": "white",
            "gridwidth": 2,
            "linecolor": "white",
            "showbackground": true,
            "ticks": "",
            "zerolinecolor": "white"
           },
           "zaxis": {
            "backgroundcolor": "#E5ECF6",
            "gridcolor": "white",
            "gridwidth": 2,
            "linecolor": "white",
            "showbackground": true,
            "ticks": "",
            "zerolinecolor": "white"
           }
          },
          "shapedefaults": {
           "line": {
            "color": "#2a3f5f"
           }
          },
          "ternary": {
           "aaxis": {
            "gridcolor": "white",
            "linecolor": "white",
            "ticks": ""
           },
           "baxis": {
            "gridcolor": "white",
            "linecolor": "white",
            "ticks": ""
           },
           "bgcolor": "#E5ECF6",
           "caxis": {
            "gridcolor": "white",
            "linecolor": "white",
            "ticks": ""
           }
          },
          "title": {
           "x": 0.05
          },
          "xaxis": {
           "automargin": true,
           "gridcolor": "white",
           "linecolor": "white",
           "ticks": "",
           "title": {
            "standoff": 15
           },
           "zerolinecolor": "white",
           "zerolinewidth": 2
          },
          "yaxis": {
           "automargin": true,
           "gridcolor": "white",
           "linecolor": "white",
           "ticks": "",
           "title": {
            "standoff": 15
           },
           "zerolinecolor": "white",
           "zerolinewidth": 2
          }
         }
        },
        "title": {
         "text": "Monthly Interest and Principal Payments for a Fixed-Rate Loan with Custom Monthly Payment"
        },
        "width": 600,
        "xaxis": {
         "title": {
          "text": "Month"
         }
        },
        "yaxis": {
         "title": {
          "text": "Payment Amount ($)"
         }
        }
       }
      }
     },
     "metadata": {},
     "output_type": "display_data"
    }
   ],
   "source": [
    "# Example usage\n",
    "principal = 2077.23\n",
    "annual_rate = 12\n",
    "monthly_payment = 200\n",
    "\n",
    "fig = loan_amortization_custom_payment(principal, annual_rate, monthly_payment)\n",
    "fig.show()"
   ]
  },
  {
   "cell_type": "code",
   "execution_count": 6,
   "metadata": {},
   "outputs": [],
   "source": [
    "# negate the value of True so it will return False\n",
    "a = True"
   ]
  },
  {
   "cell_type": "code",
   "execution_count": 7,
   "metadata": {},
   "outputs": [
    {
     "data": {
      "text/plain": [
       "-1"
      ]
     },
     "execution_count": 7,
     "metadata": {},
     "output_type": "execute_result"
    }
   ],
   "source": [
    "# return False given a = True \n",
    "print(not a)"
   ]
  },
  {
   "cell_type": "code",
   "execution_count": null,
   "metadata": {},
   "outputs": [],
   "source": []
  }
 ],
 "metadata": {
  "kernelspec": {
   "display_name": "base",
   "language": "python",
   "name": "python3"
  },
  "language_info": {
   "codemirror_mode": {
    "name": "ipython",
    "version": 3
   },
   "file_extension": ".py",
   "mimetype": "text/x-python",
   "name": "python",
   "nbconvert_exporter": "python",
   "pygments_lexer": "ipython3",
   "version": "3.10.9"
  }
 },
 "nbformat": 4,
 "nbformat_minor": 2
}
