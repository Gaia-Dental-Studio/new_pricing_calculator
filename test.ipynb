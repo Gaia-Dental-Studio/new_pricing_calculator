{
 "cells": [
  {
   "cell_type": "code",
   "execution_count": 1,
   "metadata": {},
   "outputs": [],
   "source": [
    "import numpy as np\n",
    "import pandas as pd\n"
   ]
  },
  {
   "cell_type": "code",
   "execution_count": 5,
   "metadata": {},
   "outputs": [
    {
     "name": "stdout",
     "output_type": "stream",
     "text": [
      "<class 'pandas.core.frame.DataFrame'>\n",
      "RangeIndex: 36 entries, 0 to 35\n",
      "Data columns (total 4 columns):\n",
      " #   Column            Non-Null Count  Dtype \n",
      "---  ------            --------------  ----- \n",
      " 0   Product Name      36 non-null     object\n",
      " 1   Type              33 non-null     object\n",
      " 2   Price             36 non-null     int64 \n",
      " 3   Warranty (years)  36 non-null     int64 \n",
      "dtypes: int64(2), object(2)\n",
      "memory usage: 1.2+ KB\n"
     ]
    }
   ],
   "source": [
    "ori = pd.read_excel(\"Input Streamlit v2.xlsx\")\n",
    "ori.info()"
   ]
  },
  {
   "cell_type": "code",
   "execution_count": 6,
   "metadata": {},
   "outputs": [
    {
     "name": "stdout",
     "output_type": "stream",
     "text": [
      "<class 'pandas.core.frame.DataFrame'>\n",
      "RangeIndex: 36 entries, 0 to 35\n",
      "Data columns (total 4 columns):\n",
      " #   Column            Non-Null Count  Dtype  \n",
      "---  ------            --------------  -----  \n",
      " 0   Product Name      36 non-null     object \n",
      " 1   Type              33 non-null     object \n",
      " 2   Price             36 non-null     float64\n",
      " 3   Warranty (years)  36 non-null     int64  \n",
      "dtypes: float64(1), int64(1), object(2)\n",
      "memory usage: 1.2+ KB\n"
     ]
    }
   ],
   "source": [
    "new = pd.read_excel(\"Input Streamlit v3.xlsx\")\n",
    "new.info()"
   ]
  },
  {
   "cell_type": "code",
   "execution_count": 7,
   "metadata": {},
   "outputs": [],
   "source": [
    "new.Price = new.Price.astype('int')"
   ]
  },
  {
   "cell_type": "code",
   "execution_count": 10,
   "metadata": {},
   "outputs": [],
   "source": [
    "new.to_excel(\"Input Streamlit v3.xlsx\", index=False)"
   ]
  },
  {
   "cell_type": "code",
   "execution_count": 11,
   "metadata": {},
   "outputs": [
    {
     "name": "stdout",
     "output_type": "stream",
     "text": [
      "Excel file created with merged cells.\n"
     ]
    },
    {
     "name": "stderr",
     "output_type": "stream",
     "text": [
      "C:\\Users\\Zak\\AppData\\Local\\Temp\\ipykernel_17904\\4104683695.py:23: FutureWarning: save is not part of the public API, usage can give unexpected results and will be removed in a future version\n",
      "  writer.save()\n",
      "c:\\Users\\Zak\\anaconda3\\lib\\site-packages\\xlsxwriter\\workbook.py:369: UserWarning: Calling close() on already closed file.\n",
      "  warn(\"Calling close() on already closed file.\")\n"
     ]
    }
   ],
   "source": [
    "import pandas as pd\n",
    "\n",
    "# Sample data\n",
    "data = {\n",
    "    'Category': ['A', 'A', 'B', 'B', 'C'],\n",
    "    'Value': [10, 20, 30, 40, 50]\n",
    "}\n",
    "\n",
    "df = pd.DataFrame(data)\n",
    "\n",
    "# Merging cells in Excel\n",
    "with pd.ExcelWriter('output.xlsx', engine='xlsxwriter') as writer:\n",
    "    df.to_excel(writer, index=False, sheet_name='Sheet1')\n",
    "    \n",
    "    workbook  = writer.book\n",
    "    worksheet = writer.sheets['Sheet1']\n",
    "\n",
    "    # Merging cells in the 'Category' column for rows with the same category\n",
    "    worksheet.merge_range('A2:A3', 'A')\n",
    "    worksheet.merge_range('A4:A5', 'B')\n",
    "\n",
    "    # Save the workbook\n",
    "    writer.save()\n",
    "\n",
    "print(\"Excel file created with merged cells.\")\n"
   ]
  },
  {
   "cell_type": "code",
   "execution_count": 12,
   "metadata": {},
   "outputs": [
    {
     "data": {
      "text/html": [
       "<table border=\"1\"><tr><td rowspan=\"2\">A</td><td>10</td></tr><tr><td>20</td></tr><tr><td rowspan=\"2\">B</td><td>30</td></tr><tr><td>40</td></tr><tr><td rowspan=\"1\">C</td><td>50</td></tr></table>"
      ],
      "text/plain": [
       "<IPython.core.display.HTML object>"
      ]
     },
     "execution_count": 12,
     "metadata": {},
     "output_type": "execute_result"
    }
   ],
   "source": [
    "import pandas as pd\n",
    "from IPython.display import HTML\n",
    "\n",
    "# Sample data\n",
    "data = {\n",
    "    'Category': ['A', 'A', 'B', 'B', 'C'],\n",
    "    'Value': [10, 20, 30, 40, 50]\n",
    "}\n",
    "\n",
    "df = pd.DataFrame(data)\n",
    "\n",
    "# Creating HTML with merged cells\n",
    "def create_merged_html(df):\n",
    "    html = '<table border=\"1\">'\n",
    "    previous_category = None\n",
    "    for index, row in df.iterrows():\n",
    "        html += '<tr>'\n",
    "        \n",
    "        # Handle the 'Category' column with merged cells\n",
    "        if row['Category'] != previous_category:\n",
    "            span = df['Category'].value_counts()[row['Category']]\n",
    "            html += f'<td rowspan=\"{span}\">{row[\"Category\"]}</td>'\n",
    "            previous_category = row['Category']\n",
    "        \n",
    "        # Add the 'Value' column\n",
    "        html += f'<td>{row[\"Value\"]}</td>'\n",
    "        html += '</tr>'\n",
    "    \n",
    "    html += '</table>'\n",
    "    return html\n",
    "\n",
    "# Display the DataFrame with merged cells\n",
    "HTML(create_merged_html(df))\n"
   ]
  },
  {
   "cell_type": "code",
   "execution_count": 3,
   "metadata": {},
   "outputs": [
    {
     "data": {
      "text/plain": [
       "3"
      ]
     },
     "execution_count": 3,
     "metadata": {},
     "output_type": "execute_result"
    }
   ],
   "source": [
    "import math\n",
    "math.ceil(2.02)"
   ]
  },
  {
   "cell_type": "code",
   "execution_count": 6,
   "metadata": {},
   "outputs": [
    {
     "data": {
      "text/plain": [
       "6"
      ]
     },
     "execution_count": 6,
     "metadata": {},
     "output_type": "execute_result"
    }
   ],
   "source": [
    "import numpy as np\n",
    "a = [3,2,1]\n",
    "np.sum(a)"
   ]
  },
  {
   "cell_type": "code",
   "execution_count": 8,
   "metadata": {},
   "outputs": [
    {
     "data": {
      "text/html": [
       "<div>\n",
       "<style scoped>\n",
       "    .dataframe tbody tr th:only-of-type {\n",
       "        vertical-align: middle;\n",
       "    }\n",
       "\n",
       "    .dataframe tbody tr th {\n",
       "        vertical-align: top;\n",
       "    }\n",
       "\n",
       "    .dataframe thead th {\n",
       "        text-align: right;\n",
       "    }\n",
       "</style>\n",
       "<table border=\"1\" class=\"dataframe\">\n",
       "  <thead>\n",
       "    <tr style=\"text-align: right;\">\n",
       "      <th></th>\n",
       "      <th>0</th>\n",
       "    </tr>\n",
       "  </thead>\n",
       "  <tbody>\n",
       "    <tr>\n",
       "      <th>0</th>\n",
       "      <td>3</td>\n",
       "    </tr>\n",
       "    <tr>\n",
       "      <th>1</th>\n",
       "      <td>2</td>\n",
       "    </tr>\n",
       "    <tr>\n",
       "      <th>2</th>\n",
       "      <td>1</td>\n",
       "    </tr>\n",
       "  </tbody>\n",
       "</table>\n",
       "</div>"
      ],
      "text/plain": [
       "   0\n",
       "0  3\n",
       "1  2\n",
       "2  1"
      ]
     },
     "execution_count": 8,
     "metadata": {},
     "output_type": "execute_result"
    }
   ],
   "source": [
    "import pandas as pd\n",
    "\n",
    "pd.DataFrame(a)"
   ]
  },
  {
   "cell_type": "code",
   "execution_count": 10,
   "metadata": {},
   "outputs": [
    {
     "ename": "ValueError",
     "evalue": "not enough values to unpack (expected 2, got 1)",
     "output_type": "error",
     "traceback": [
      "\u001b[1;31m---------------------------------------------------------------------------\u001b[0m",
      "\u001b[1;31mValueError\u001b[0m                                Traceback (most recent call last)",
      "Cell \u001b[1;32mIn[10], line 1\u001b[0m\n\u001b[1;32m----> 1\u001b[0m \u001b[38;5;28;01mfor\u001b[39;00m row, item \u001b[38;5;129;01min\u001b[39;00m \u001b[38;5;28mzip\u001b[39m(a):\n\u001b[0;32m      2\u001b[0m     \u001b[38;5;28mprint\u001b[39m(row, item)\n",
      "\u001b[1;31mValueError\u001b[0m: not enough values to unpack (expected 2, got 1)"
     ]
    }
   ],
   "source": [
    "for row, item in zip(a):\n",
    "    print(row, item)"
   ]
  },
  {
   "cell_type": "code",
   "execution_count": 33,
   "metadata": {},
   "outputs": [
    {
     "data": {
      "text/plain": [
       "array(22.28325703)"
      ]
     },
     "execution_count": 33,
     "metadata": {},
     "output_type": "execute_result"
    }
   ],
   "source": [
    "import numpy_financial as npf\n",
    "import math\n",
    "\n",
    "monthly_interest_rate = ((1+0.12)**(1/12))-1\n",
    "\n",
    "LoanTerm_months = npf.nper(monthly_interest_rate, -400, 8000)\n",
    "LoanTerm_months\n",
    "# math.ceil(LoanTerm_months)"
   ]
  },
  {
   "cell_type": "code",
   "execution_count": 34,
   "metadata": {},
   "outputs": [
    {
     "data": {
      "text/plain": [
       "8000.810224141311"
      ]
     },
     "execution_count": 34,
     "metadata": {},
     "output_type": "execute_result"
    }
   ],
   "source": [
    "\n",
    "total_payment_rounded = npf.pv(monthly_interest_rate, LoanTerm_months, -400, -1)\n",
    "total_payment_rounded"
   ]
  },
  {
   "cell_type": "code",
   "execution_count": 39,
   "metadata": {},
   "outputs": [
    {
     "data": {
      "text/plain": [
       "3.637978807091713e-12"
      ]
     },
     "execution_count": 39,
     "metadata": {},
     "output_type": "execute_result"
    }
   ],
   "source": [
    "npf.fv(monthly_interest_rate, LoanTerm_months, -400, 8000)"
   ]
  },
  {
   "cell_type": "code",
   "execution_count": 36,
   "metadata": {},
   "outputs": [
    {
     "data": {
      "text/plain": [
       "8913.302810573141"
      ]
     },
     "execution_count": 36,
     "metadata": {},
     "output_type": "execute_result"
    }
   ],
   "source": [
    "LoanTerm_months * 400"
   ]
  },
  {
   "cell_type": "code",
   "execution_count": 42,
   "metadata": {},
   "outputs": [
    {
     "name": "stdout",
     "output_type": "stream",
     "text": [
      "Exact number of periods: 22.283257026432853\n",
      "Rounded number of periods: 23\n",
      "Regular monthly payment: $400.00\n",
      "Final payment to settle the loan: $113.69\n"
     ]
    }
   ],
   "source": [
    "import numpy_financial as npf\n",
    "import math\n",
    "\n",
    "# Given values\n",
    "pv = 8000  # Present Value (Loan amount)\n",
    "monthly_interest_rate = ((1 + 0.12) ** (1 / 12)) - 1  # Monthly interest rate based on annual rate of 12%\n",
    "pmt = -400  # Monthly payment (negative because it's an outflow)\n",
    "\n",
    "# Step 1: Calculate the exact number of periods (can be a float)\n",
    "nper_exact = npf.nper(monthly_interest_rate, pmt, pv)\n",
    "\n",
    "# Step 2: Round up the number of periods to the nearest whole number\n",
    "nper_rounded = math.ceil(nper_exact)\n",
    "\n",
    "# Step 3: Calculate the remaining balance after making nper_rounded - 1 payments\n",
    "remaining_balance = npf.fv(monthly_interest_rate, nper_rounded - 1, pmt, pv)\n",
    "\n",
    "# Step 4: Calculate the final payment to settle the remaining balance\n",
    "final_payment = remaining_balance * (1 + monthly_interest_rate)\n",
    "\n",
    "# Output the results\n",
    "print(f\"Exact number of periods: {nper_exact}\")\n",
    "print(f\"Rounded number of periods: {nper_rounded}\")\n",
    "print(f\"Regular monthly payment: ${-pmt:.2f}\")\n",
    "print(f\"Final payment to settle the loan: ${-final_payment:.2f}\")\n"
   ]
  },
  {
   "cell_type": "code",
   "execution_count": 41,
   "metadata": {},
   "outputs": [
    {
     "name": "stdout",
     "output_type": "stream",
     "text": [
      "Exact number of periods: 22.283257026432853\n",
      "Rounded number of periods: 23\n",
      "Regular monthly payment: $400.00\n",
      "Final payment to settle the loan: $113.69\n",
      "Total payment using exact periods: $8913.30\n",
      "Total payment using rounded periods: $8913.69\n"
     ]
    }
   ],
   "source": [
    "import numpy_financial as npf\n",
    "import math\n",
    "\n",
    "# Given values\n",
    "pv = 8000  # Present Value (Loan amount)\n",
    "monthly_interest_rate = ((1 + 0.12) ** (1 / 12)) - 1  # Monthly interest rate based on an annual rate of 12%\n",
    "pmt = -400  # Monthly payment (negative because it's an outflow)\n",
    "\n",
    "# Step 1: Calculate the exact number of periods (can be a float)\n",
    "nper_exact = npf.nper(monthly_interest_rate, pmt, pv)\n",
    "\n",
    "# Step 2: Round up the number of periods to the nearest whole number\n",
    "nper_rounded = math.ceil(nper_exact)\n",
    "\n",
    "# Step 3: Calculate the remaining balance after making nper_rounded - 1 payments\n",
    "remaining_balance = npf.fv(monthly_interest_rate, nper_rounded - 1, pmt, pv)\n",
    "\n",
    "# Step 4: Calculate the final payment to settle the remaining balance\n",
    "final_payment = remaining_balance * (1 + monthly_interest_rate)\n",
    "\n",
    "# Step 5: Calculate the total payment using the exact number of periods\n",
    "total_payment_exact = pmt * nper_exact\n",
    "\n",
    "# Step 6: Calculate the total payment using the rounded number of periods\n",
    "total_payment_rounded = (pmt * (nper_rounded - 1)) + final_payment\n",
    "\n",
    "# Output the results\n",
    "print(f\"Exact number of periods: {nper_exact}\")\n",
    "print(f\"Rounded number of periods: {nper_rounded}\")\n",
    "print(f\"Regular monthly payment: ${-pmt:.2f}\")\n",
    "print(f\"Final payment to settle the loan: ${-final_payment:.2f}\")\n",
    "print(f\"Total payment using exact periods: ${-total_payment_exact:.2f}\")\n",
    "print(f\"Total payment using rounded periods: ${-total_payment_rounded:.2f}\")"
   ]
  },
  {
   "cell_type": "code",
   "execution_count": null,
   "metadata": {},
   "outputs": [],
   "source": []
  }
 ],
 "metadata": {
  "kernelspec": {
   "display_name": "base",
   "language": "python",
   "name": "python3"
  },
  "language_info": {
   "codemirror_mode": {
    "name": "ipython",
    "version": 3
   },
   "file_extension": ".py",
   "mimetype": "text/x-python",
   "name": "python",
   "nbconvert_exporter": "python",
   "pygments_lexer": "ipython3",
   "version": "3.10.9"
  }
 },
 "nbformat": 4,
 "nbformat_minor": 2
}
