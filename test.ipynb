{
 "cells": [
  {
   "cell_type": "code",
   "execution_count": 1,
   "metadata": {},
   "outputs": [],
   "source": [
    "import numpy as np\n",
    "import pandas as pd\n"
   ]
  },
  {
   "cell_type": "code",
   "execution_count": 5,
   "metadata": {},
   "outputs": [
    {
     "name": "stdout",
     "output_type": "stream",
     "text": [
      "<class 'pandas.core.frame.DataFrame'>\n",
      "RangeIndex: 36 entries, 0 to 35\n",
      "Data columns (total 4 columns):\n",
      " #   Column            Non-Null Count  Dtype \n",
      "---  ------            --------------  ----- \n",
      " 0   Product Name      36 non-null     object\n",
      " 1   Type              33 non-null     object\n",
      " 2   Price             36 non-null     int64 \n",
      " 3   Warranty (years)  36 non-null     int64 \n",
      "dtypes: int64(2), object(2)\n",
      "memory usage: 1.2+ KB\n"
     ]
    }
   ],
   "source": [
    "ori = pd.read_excel(\"Input Streamlit v2.xlsx\")\n",
    "ori.info()"
   ]
  },
  {
   "cell_type": "code",
   "execution_count": 6,
   "metadata": {},
   "outputs": [
    {
     "name": "stdout",
     "output_type": "stream",
     "text": [
      "<class 'pandas.core.frame.DataFrame'>\n",
      "RangeIndex: 36 entries, 0 to 35\n",
      "Data columns (total 4 columns):\n",
      " #   Column            Non-Null Count  Dtype  \n",
      "---  ------            --------------  -----  \n",
      " 0   Product Name      36 non-null     object \n",
      " 1   Type              33 non-null     object \n",
      " 2   Price             36 non-null     float64\n",
      " 3   Warranty (years)  36 non-null     int64  \n",
      "dtypes: float64(1), int64(1), object(2)\n",
      "memory usage: 1.2+ KB\n"
     ]
    }
   ],
   "source": [
    "new = pd.read_excel(\"Input Streamlit v3.xlsx\")\n",
    "new.info()"
   ]
  },
  {
   "cell_type": "code",
   "execution_count": 7,
   "metadata": {},
   "outputs": [],
   "source": [
    "new.Price = new.Price.astype('int')"
   ]
  },
  {
   "cell_type": "code",
   "execution_count": 10,
   "metadata": {},
   "outputs": [],
   "source": [
    "new.to_excel(\"Input Streamlit v3.xlsx\", index=False)"
   ]
  },
  {
   "cell_type": "code",
   "execution_count": 11,
   "metadata": {},
   "outputs": [
    {
     "name": "stdout",
     "output_type": "stream",
     "text": [
      "Excel file created with merged cells.\n"
     ]
    },
    {
     "name": "stderr",
     "output_type": "stream",
     "text": [
      "C:\\Users\\Zak\\AppData\\Local\\Temp\\ipykernel_17904\\4104683695.py:23: FutureWarning: save is not part of the public API, usage can give unexpected results and will be removed in a future version\n",
      "  writer.save()\n",
      "c:\\Users\\Zak\\anaconda3\\lib\\site-packages\\xlsxwriter\\workbook.py:369: UserWarning: Calling close() on already closed file.\n",
      "  warn(\"Calling close() on already closed file.\")\n"
     ]
    }
   ],
   "source": [
    "import pandas as pd\n",
    "\n",
    "# Sample data\n",
    "data = {\n",
    "    'Category': ['A', 'A', 'B', 'B', 'C'],\n",
    "    'Value': [10, 20, 30, 40, 50]\n",
    "}\n",
    "\n",
    "df = pd.DataFrame(data)\n",
    "\n",
    "# Merging cells in Excel\n",
    "with pd.ExcelWriter('output.xlsx', engine='xlsxwriter') as writer:\n",
    "    df.to_excel(writer, index=False, sheet_name='Sheet1')\n",
    "    \n",
    "    workbook  = writer.book\n",
    "    worksheet = writer.sheets['Sheet1']\n",
    "\n",
    "    # Merging cells in the 'Category' column for rows with the same category\n",
    "    worksheet.merge_range('A2:A3', 'A')\n",
    "    worksheet.merge_range('A4:A5', 'B')\n",
    "\n",
    "    # Save the workbook\n",
    "    writer.save()\n",
    "\n",
    "print(\"Excel file created with merged cells.\")\n"
   ]
  },
  {
   "cell_type": "code",
   "execution_count": 12,
   "metadata": {},
   "outputs": [
    {
     "data": {
      "text/html": [
       "<table border=\"1\"><tr><td rowspan=\"2\">A</td><td>10</td></tr><tr><td>20</td></tr><tr><td rowspan=\"2\">B</td><td>30</td></tr><tr><td>40</td></tr><tr><td rowspan=\"1\">C</td><td>50</td></tr></table>"
      ],
      "text/plain": [
       "<IPython.core.display.HTML object>"
      ]
     },
     "execution_count": 12,
     "metadata": {},
     "output_type": "execute_result"
    }
   ],
   "source": [
    "import pandas as pd\n",
    "from IPython.display import HTML\n",
    "\n",
    "# Sample data\n",
    "data = {\n",
    "    'Category': ['A', 'A', 'B', 'B', 'C'],\n",
    "    'Value': [10, 20, 30, 40, 50]\n",
    "}\n",
    "\n",
    "df = pd.DataFrame(data)\n",
    "\n",
    "# Creating HTML with merged cells\n",
    "def create_merged_html(df):\n",
    "    html = '<table border=\"1\">'\n",
    "    previous_category = None\n",
    "    for index, row in df.iterrows():\n",
    "        html += '<tr>'\n",
    "        \n",
    "        # Handle the 'Category' column with merged cells\n",
    "        if row['Category'] != previous_category:\n",
    "            span = df['Category'].value_counts()[row['Category']]\n",
    "            html += f'<td rowspan=\"{span}\">{row[\"Category\"]}</td>'\n",
    "            previous_category = row['Category']\n",
    "        \n",
    "        # Add the 'Value' column\n",
    "        html += f'<td>{row[\"Value\"]}</td>'\n",
    "        html += '</tr>'\n",
    "    \n",
    "    html += '</table>'\n",
    "    return html\n",
    "\n",
    "# Display the DataFrame with merged cells\n",
    "HTML(create_merged_html(df))\n"
   ]
  },
  {
   "cell_type": "code",
   "execution_count": null,
   "metadata": {},
   "outputs": [],
   "source": []
  }
 ],
 "metadata": {
  "kernelspec": {
   "display_name": "base",
   "language": "python",
   "name": "python3"
  },
  "language_info": {
   "codemirror_mode": {
    "name": "ipython",
    "version": 3
   },
   "file_extension": ".py",
   "mimetype": "text/x-python",
   "name": "python",
   "nbconvert_exporter": "python",
   "pygments_lexer": "ipython3",
   "version": "3.10.9"
  }
 },
 "nbformat": 4,
 "nbformat_minor": 2
}
