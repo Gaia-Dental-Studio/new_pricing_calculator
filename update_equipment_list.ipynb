{
 "cells": [
  {
   "cell_type": "code",
   "execution_count": 1,
   "metadata": {},
   "outputs": [],
   "source": [
    "import pandas as pd\n",
    "\n",
    "def add_loan_term_to_equipment():\n",
    "    \"\"\"\n",
    "    Adds a 'Loan Term' column to equipment_df based on the 'Price' column,\n",
    "    by matching the price intervals defined in df.\n",
    "\n",
    "    Parameters:\n",
    "    equipment_df (DataFrame): The equipment list DataFrame with a 'Price' column.\n",
    "    df (DataFrame): The DataFrame containing 'Bottom Price', 'Upper Price', and 'Loan Term'.\n",
    "\n",
    "    Returns:\n",
    "    DataFrame: The equipment_df with an added 'Loan Term' column.\n",
    "    \"\"\"\n",
    "    equipment_df = pd.read_excel('Input Streamlit v3.xlsx')\n",
    "    \n",
    "    df = pd.read_csv('best_config_1.csv')\n",
    "    df = df.iloc[:,1:]\n",
    "    \n",
    "    # Create an IntervalIndex from df\n",
    "    intervals = pd.IntervalIndex.from_arrays(df['Bottom Price'], df['Upper Price'], closed='left')\n",
    "    \n",
    "    # Assign the intervals as the index of df for easy lookup\n",
    "    df_intervals = df.set_index(intervals)\n",
    "    \n",
    "    # Function to find the 'Loan Term' for a given price\n",
    "    def get_loan_term(price):\n",
    "        # Check if the price falls within any interval\n",
    "        try:\n",
    "            interval = df_intervals.index.get_loc(price)\n",
    "            return df_intervals.iloc[interval]['Loan Term']\n",
    "        except KeyError:\n",
    "            return 1  # Price not within any interval\n",
    "    \n",
    "    # Apply the function to the 'Price' column of equipment_df\n",
    "    equipment_df['Loan Term'] = equipment_df['Price'].apply(get_loan_term)\n",
    "    \n",
    "    return equipment_df\n"
   ]
  },
  {
   "cell_type": "code",
   "execution_count": 3,
   "metadata": {},
   "outputs": [],
   "source": [
    "add_loan_term_to_equipment().to_excel('Input Streamlit v3.xlsx', index=None)\n"
   ]
  },
  {
   "cell_type": "code",
   "execution_count": null,
   "metadata": {},
   "outputs": [],
   "source": []
  }
 ],
 "metadata": {
  "kernelspec": {
   "display_name": "base",
   "language": "python",
   "name": "python3"
  },
  "language_info": {
   "codemirror_mode": {
    "name": "ipython",
    "version": 3
   },
   "file_extension": ".py",
   "mimetype": "text/x-python",
   "name": "python",
   "nbconvert_exporter": "python",
   "pygments_lexer": "ipython3",
   "version": "3.10.9"
  }
 },
 "nbformat": 4,
 "nbformat_minor": 2
}
